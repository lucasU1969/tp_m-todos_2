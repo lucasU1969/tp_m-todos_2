{
 "cells": [
  {
   "cell_type": "code",
   "execution_count": null,
   "metadata": {},
   "outputs": [],
   "source": [
    "import pandas as pd\n",
    "import matplotlib.pyplot as plt\n",
    "import numpy as np\n",
    "\n",
    "df = pd.read_csv(\"C:/Users/Lucy Hernández/Downloads/Hoja2.csv\", index_col ='Cuadro 3')\n",
    "\n",
    "\n",
    "c_Consume = df.loc['Consumo privado']\n",
    "i_inversion = df.loc['Importaciones FOB ( bienes y servicios reales)']\n",
    "Consumo = []\n",
    "for i in c_Consume:\n",
    "    try:\n",
    "        variant= float(i.replace(',', '.'))    \n",
    "        Consumo.append(variant)\n",
    "        \n",
    "    except:\n",
    "        pass\n",
    "Consumo = np.array(Consumo)   \n",
    "inversion = []\n",
    "\n",
    "for i in i_inversion:\n",
    "    try:\n",
    "        variant= float(i.replace(',', '.'))\n",
    "        inversion.append(variant)\n",
    "    except:\n",
    "        pass\n",
    "inversion = np.array(inversion)\n",
    "\n",
    "CV_inversion = inversion.std() / inversion.mean()\n",
    "CV_Consumo =  Consumo.std() / Consumo.mean()\n",
    "\n",
    "plt.figure()\n",
    "plt.plot(range(Consumo.shape[0]),Consumo)\n",
    "plt.legend(['Consumo'])\n",
    "plt.xlabel('years')\n",
    "plt.xticks(list(range(16)), ['2004','2005','2006','2007','2008','2009','2010','2011','2012','2013','2014','2015','2016','2017','2018','2019'], rotation=45)\n",
    "plt.show()\n",
    "\n",
    "\n",
    "\n",
    "plt.figure()\n",
    "plt.plot(range(inversion.shape[0]), inversion)\n",
    "plt.xlabel('years')\n",
    "plt.legend(['Inversion'])\n",
    "plt.xticks(list(range(16)), ['2004','2005','2006','2007','2008','2009','2010','2011','2012','2013','2014','2015','2016','2017','2018','2019'], rotation=45)\n",
    "plt.show()"
   ]
  },
  {
   "cell_type": "code",
   "execution_count": null,
   "metadata": {},
   "outputs": [],
   "source": []
  }
 ],
 "metadata": {
  "language_info": {
   "name": "python"
  }
 },
 "nbformat": 4,
 "nbformat_minor": 2
}
